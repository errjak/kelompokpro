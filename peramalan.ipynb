{
 "cells": [
  {
   "attachments": {},
   "cell_type": "markdown",
   "metadata": {},
   "source": [
    "Tugas Kolaborasi Peramalan Air Passangers\n",
    "\n",
    "1. Dio Adya Wicaksono 200411100066\n",
    "2. Dimas Mahardika 200411100093"
   ]
  },
  {
   "cell_type": "code",
   "execution_count": 1,
   "metadata": {},
   "outputs": [
    {
     "name": "stdout",
     "output_type": "stream",
     "text": [
      "Requirement already satisfied: sklearn in /home/ubuntu/.local/lib/python3.8/site-packages (0.0.post5)\n",
      "Note: you may need to restart the kernel to use updated packages.\n"
     ]
    }
   ],
   "source": [
    "pip install sklearn"
   ]
  },
  {
   "cell_type": "code",
   "execution_count": 2,
   "metadata": {},
   "outputs": [
    {
     "name": "stdout",
     "output_type": "stream",
     "text": [
      "Requirement already satisfied: pandas in /home/ubuntu/.local/lib/python3.8/site-packages (2.0.2)\n",
      "Requirement already satisfied: numpy>=1.20.3; python_version < \"3.10\" in /home/ubuntu/.local/lib/python3.8/site-packages (from pandas) (1.24.3)\n",
      "Requirement already satisfied: python-dateutil>=2.8.2 in /home/ubuntu/.local/lib/python3.8/site-packages (from pandas) (2.8.2)\n",
      "Requirement already satisfied: tzdata>=2022.1 in /home/ubuntu/.local/lib/python3.8/site-packages (from pandas) (2023.3)\n",
      "Requirement already satisfied: pytz>=2020.1 in /home/ubuntu/.local/lib/python3.8/site-packages (from pandas) (2023.3)\n",
      "Requirement already satisfied: six>=1.5 in /usr/lib/python3/dist-packages (from python-dateutil>=2.8.2->pandas) (1.14.0)\n",
      "Note: you may need to restart the kernel to use updated packages.\n"
     ]
    }
   ],
   "source": [
    "pip install pandas"
   ]
  },
  {
   "cell_type": "code",
   "execution_count": 3,
   "metadata": {},
   "outputs": [
    {
     "data": {
      "text/html": [
       "<div>\n",
       "<style scoped>\n",
       "    .dataframe tbody tr th:only-of-type {\n",
       "        vertical-align: middle;\n",
       "    }\n",
       "\n",
       "    .dataframe tbody tr th {\n",
       "        vertical-align: top;\n",
       "    }\n",
       "\n",
       "    .dataframe thead th {\n",
       "        text-align: right;\n",
       "    }\n",
       "</style>\n",
       "<table border=\"1\" class=\"dataframe\">\n",
       "  <thead>\n",
       "    <tr style=\"text-align: right;\">\n",
       "      <th></th>\n",
       "      <th>Month</th>\n",
       "      <th>#Passengers</th>\n",
       "    </tr>\n",
       "  </thead>\n",
       "  <tbody>\n",
       "    <tr>\n",
       "      <th>0</th>\n",
       "      <td>1949-01</td>\n",
       "      <td>112</td>\n",
       "    </tr>\n",
       "    <tr>\n",
       "      <th>1</th>\n",
       "      <td>1949-02</td>\n",
       "      <td>118</td>\n",
       "    </tr>\n",
       "    <tr>\n",
       "      <th>2</th>\n",
       "      <td>1949-03</td>\n",
       "      <td>132</td>\n",
       "    </tr>\n",
       "    <tr>\n",
       "      <th>3</th>\n",
       "      <td>1949-04</td>\n",
       "      <td>129</td>\n",
       "    </tr>\n",
       "    <tr>\n",
       "      <th>4</th>\n",
       "      <td>1949-05</td>\n",
       "      <td>121</td>\n",
       "    </tr>\n",
       "    <tr>\n",
       "      <th>...</th>\n",
       "      <td>...</td>\n",
       "      <td>...</td>\n",
       "    </tr>\n",
       "    <tr>\n",
       "      <th>139</th>\n",
       "      <td>1960-08</td>\n",
       "      <td>606</td>\n",
       "    </tr>\n",
       "    <tr>\n",
       "      <th>140</th>\n",
       "      <td>1960-09</td>\n",
       "      <td>508</td>\n",
       "    </tr>\n",
       "    <tr>\n",
       "      <th>141</th>\n",
       "      <td>1960-10</td>\n",
       "      <td>461</td>\n",
       "    </tr>\n",
       "    <tr>\n",
       "      <th>142</th>\n",
       "      <td>1960-11</td>\n",
       "      <td>390</td>\n",
       "    </tr>\n",
       "    <tr>\n",
       "      <th>143</th>\n",
       "      <td>1960-12</td>\n",
       "      <td>432</td>\n",
       "    </tr>\n",
       "  </tbody>\n",
       "</table>\n",
       "<p>144 rows × 2 columns</p>\n",
       "</div>"
      ],
      "text/plain": [
       "       Month  #Passengers\n",
       "0    1949-01          112\n",
       "1    1949-02          118\n",
       "2    1949-03          132\n",
       "3    1949-04          129\n",
       "4    1949-05          121\n",
       "..       ...          ...\n",
       "139  1960-08          606\n",
       "140  1960-09          508\n",
       "141  1960-10          461\n",
       "142  1960-11          390\n",
       "143  1960-12          432\n",
       "\n",
       "[144 rows x 2 columns]"
      ]
     },
     "execution_count": 3,
     "metadata": {},
     "output_type": "execute_result"
    }
   ],
   "source": [
    "import pandas as pd\n",
    "import numpy as n\n",
    "\n",
    "data = pd.read_csv('AirPassengers.csv')\n",
    "data"
   ]
  },
  {
   "cell_type": "code",
   "execution_count": 4,
   "metadata": {},
   "outputs": [
    {
     "name": "stdout",
     "output_type": "stream",
     "text": [
      "Requirement already satisfied: matplotlib in /home/ubuntu/.local/lib/python3.8/site-packages (3.7.1)\n",
      "Requirement already satisfied: packaging>=20.0 in /home/ubuntu/.local/lib/python3.8/site-packages (from matplotlib) (23.1)\n",
      "Requirement already satisfied: numpy>=1.20 in /home/ubuntu/.local/lib/python3.8/site-packages (from matplotlib) (1.24.3)\n",
      "Requirement already satisfied: contourpy>=1.0.1 in /home/ubuntu/.local/lib/python3.8/site-packages (from matplotlib) (1.0.7)\n",
      "Requirement already satisfied: importlib-resources>=3.2.0; python_version < \"3.10\" in /home/ubuntu/.local/lib/python3.8/site-packages (from matplotlib) (5.12.0)\n",
      "Requirement already satisfied: fonttools>=4.22.0 in /home/ubuntu/.local/lib/python3.8/site-packages (from matplotlib) (4.39.4)\n",
      "Requirement already satisfied: pillow>=6.2.0 in /usr/lib/python3/dist-packages (from matplotlib) (7.0.0)\n",
      "Requirement already satisfied: cycler>=0.10 in /home/ubuntu/.local/lib/python3.8/site-packages (from matplotlib) (0.11.0)\n",
      "Requirement already satisfied: kiwisolver>=1.0.1 in /home/ubuntu/.local/lib/python3.8/site-packages (from matplotlib) (1.4.4)\n",
      "Requirement already satisfied: pyparsing>=2.3.1 in /usr/lib/python3/dist-packages (from matplotlib) (2.4.6)\n",
      "Requirement already satisfied: python-dateutil>=2.7 in /home/ubuntu/.local/lib/python3.8/site-packages (from matplotlib) (2.8.2)\n",
      "Requirement already satisfied: zipp>=3.1.0; python_version < \"3.10\" in /home/ubuntu/.local/lib/python3.8/site-packages (from importlib-resources>=3.2.0; python_version < \"3.10\"->matplotlib) (3.15.0)\n",
      "Requirement already satisfied: six>=1.5 in /usr/lib/python3/dist-packages (from python-dateutil>=2.7->matplotlib) (1.14.0)\n",
      "Note: you may need to restart the kernel to use updated packages.\n"
     ]
    }
   ],
   "source": [
    "pip install matplotlib"
   ]
  },
  {
   "cell_type": "code",
   "execution_count": 5,
   "metadata": {},
   "outputs": [
    {
     "data": {
      "text/plain": [
       "<Axes: xlabel='Month'>"
      ]
     },
     "execution_count": 5,
     "metadata": {},
     "output_type": "execute_result"
    },
    {
     "data": {
      "image/png": "[encoded data removed]",
      "text/plain": [
       "<Figure size 640x480 with 1 Axes>"
      ]
     },
     "metadata": {},
     "output_type": "display_data"
    }
   ],
   "source": [
    "import matplotlib as plt\n",
    "data.plot(x='Month', y='#Passengers')"
   ]
  },
  {
   "cell_type": "code",
   "execution_count": 6,
   "metadata": {},
   "outputs": [
    {
     "data": {
      "text/plain": [
       "(144, 2)"
      ]
     },
     "execution_count": 6,
     "metadata": {},
     "output_type": "execute_result"
    }
   ],
   "source": [
    "data.shape"
   ]
  },
  {
   "cell_type": "code",
   "execution_count": 7,
   "metadata": {},
   "outputs": [],
   "source": [
    "from array import array\n",
    "import numpy as np\n",
    "\n",
    "def split_sequence(sequence, n_steps):\n",
    "    X, y = list(), list()\n",
    "    for i in range(len(sequence)):\n",
    "        # find the end of this pattern\n",
    "        end_ix = i + n_steps\n",
    "        # check if we are beyond the sequence\n",
    "        if end_ix > len(sequence)-1:\n",
    "            break\n",
    "        # gather input and output parts of the pattern\n",
    "        seq_x, seq_y = sequence[i:end_ix], sequence[end_ix]\n",
    "        X.append(seq_x)\n",
    "        y.append(seq_y)\n",
    "    return np.array(X), np.array(y)"
   ]
  },
  {
   "cell_type": "code",
   "execution_count": 8,
   "metadata": {},
   "outputs": [
    {
     "name": "stdout",
     "output_type": "stream",
     "text": [
      "[112 118 132] 129\n",
      "[118 132 129] 121\n",
      "[132 129 121] 135\n",
      "[129 121 135] 148\n",
      "[121 135 148] 148\n",
      "[135 148 148] 136\n",
      "[148 148 136] 119\n",
      "[148 136 119] 104\n",
      "[136 119 104] 118\n",
      "[119 104 118] 115\n",
      "[104 118 115] 126\n",
      "[118 115 126] 141\n",
      "[115 126 141] 135\n",
      "[126 141 135] 125\n",
      "[141 135 125] 149\n",
      "[135 125 149] 170\n",
      "[125 149 170] 170\n",
      "[149 170 170] 158\n",
      "[170 170 158] 133\n",
      "[170 158 133] 114\n",
      "[158 133 114] 140\n",
      "[133 114 140] 145\n",
      "[114 140 145] 150\n",
      "[140 145 150] 178\n",
      "[145 150 178] 163\n",
      "[150 178 163] 172\n",
      "[178 163 172] 178\n",
      "[163 172 178] 199\n",
      "[172 178 199] 199\n",
      "[178 199 199] 184\n",
      "[199 199 184] 162\n",
      "[199 184 162] 146\n",
      "[184 162 146] 166\n",
      "[162 146 166] 171\n",
      "[146 166 171] 180\n",
      "[166 171 180] 193\n",
      "[171 180 193] 181\n",
      "[180 193 181] 183\n",
      "[193 181 183] 218\n",
      "[181 183 218] 230\n",
      "[183 218 230] 242\n",
      "[218 230 242] 209\n",
      "[230 242 209] 191\n",
      "[242 209 191] 172\n",
      "[209 191 172] 194\n",
      "[191 172 194] 196\n",
      "[172 194 196] 196\n",
      "[194 196 196] 236\n",
      "[196 196 236] 235\n",
      "[196 236 235] 229\n",
      "[236 235 229] 243\n",
      "[235 229 243] 264\n",
      "[229 243 264] 272\n",
      "[243 264 272] 237\n",
      "[264 272 237] 211\n",
      "[272 237 211] 180\n",
      "[237 211 180] 201\n",
      "[211 180 201] 204\n",
      "[180 201 204] 188\n",
      "[201 204 188] 235\n",
      "[204 188 235] 227\n",
      "[188 235 227] 234\n",
      "[235 227 234] 264\n",
      "[227 234 264] 302\n",
      "[234 264 302] 293\n",
      "[264 302 293] 259\n",
      "[302 293 259] 229\n",
      "[293 259 229] 203\n",
      "[259 229 203] 229\n",
      "[229 203 229] 242\n",
      "[203 229 242] 233\n",
      "[229 242 233] 267\n",
      "[242 233 267] 269\n",
      "[233 267 269] 270\n",
      "[267 269 270] 315\n",
      "[269 270 315] 364\n",
      "[270 315 364] 347\n",
      "[315 364 347] 312\n",
      "[364 347 312] 274\n",
      "[347 312 274] 237\n",
      "[312 274 237] 278\n",
      "[274 237 278] 284\n",
      "[237 278 284] 277\n",
      "[278 284 277] 317\n",
      "[284 277 317] 313\n",
      "[277 317 313] 318\n",
      "[317 313 318] 374\n",
      "[313 318 374] 413\n",
      "[318 374 413] 405\n",
      "[374 413 405] 355\n",
      "[413 405 355] 306\n",
      "[405 355 306] 271\n",
      "[355 306 271] 306\n",
      "[306 271 306] 315\n",
      "[271 306 315] 301\n",
      "[306 315 301] 356\n",
      "[315 301 356] 348\n",
      "[301 356 348] 355\n",
      "[356 348 355] 422\n",
      "[348 355 422] 465\n",
      "[355 422 465] 467\n",
      "[422 465 467] 404\n",
      "[465 467 404] 347\n",
      "[467 404 347] 305\n",
      "[404 347 305] 336\n",
      "[347 305 336] 340\n",
      "[305 336 340] 318\n",
      "[336 340 318] 362\n",
      "[340 318 362] 348\n",
      "[318 362 348] 363\n",
      "[362 348 363] 435\n",
      "[348 363 435] 491\n",
      "[363 435 491] 505\n",
      "[435 491 505] 404\n",
      "[491 505 404] 359\n",
      "[505 404 359] 310\n",
      "[404 359 310] 337\n",
      "[359 310 337] 360\n",
      "[310 337 360] 342\n",
      "[337 360 342] 406\n",
      "[360 342 406] 396\n",
      "[342 406 396] 420\n",
      "[406 396 420] 472\n",
      "[396 420 472] 548\n",
      "[420 472 548] 559\n",
      "[472 548 559] 463\n",
      "[548 559 463] 407\n",
      "[559 463 407] 362\n",
      "[463 407 362] 405\n",
      "[407 362 405] 417\n",
      "[362 405 417] 391\n",
      "[405 417 391] 419\n",
      "[417 391 419] 461\n",
      "[391 419 461] 472\n",
      "[419 461 472] 535\n",
      "[461 472 535] 622\n",
      "[472 535 622] 606\n",
      "[535 622 606] 508\n",
      "[622 606 508] 461\n",
      "[606 508 461] 390\n",
      "[508 461 390] 432\n"
     ]
    }
   ],
   "source": [
    "# define input sequence from airlinespassengers.csv\n",
    "df = pd.read_csv('AirPassengers.csv')\n",
    "series = df['#Passengers']\n",
    "# choose a number of time steps\n",
    "n_steps = 3\n",
    "# split into samples\n",
    "X, y = split_sequence(series, n_steps)\n",
    "\n",
    "# show each sample\n",
    "for i in range(len(X)):\n",
    "    print(X[i], y[i])"
   ]
  },
  {
   "cell_type": "code",
   "execution_count": 9,
   "metadata": {},
   "outputs": [
    {
     "name": "stdout",
     "output_type": "stream",
     "text": [
      "Requirement already satisfied: scikit-learn in /home/ubuntu/.local/lib/python3.8/site-packages (1.2.2)\n",
      "Requirement already satisfied: threadpoolctl>=2.0.0 in /home/ubuntu/.local/lib/python3.8/site-packages (from scikit-learn) (3.1.0)\n",
      "Requirement already satisfied: scipy>=1.3.2 in /home/ubuntu/.local/lib/python3.8/site-packages (from scikit-learn) (1.10.1)\n",
      "Requirement already satisfied: joblib>=1.1.1 in /home/ubuntu/.local/lib/python3.8/site-packages (from scikit-learn) (1.2.0)\n",
      "Requirement already satisfied: numpy>=1.17.3 in /home/ubuntu/.local/lib/python3.8/site-packages (from scikit-learn) (1.24.3)\n",
      "Note: you may need to restart the kernel to use updated packages.\n"
     ]
    }
   ],
   "source": [
    "pip install scikit-learn"
   ]
  },
  {
   "cell_type": "code",
   "execution_count": 10,
   "metadata": {},
   "outputs": [
    {
     "data": {
      "text/plain": [
       "array([[0.01544402, 0.02702703, 0.05405405],\n",
       "       [0.02702703, 0.05405405, 0.04826255],\n",
       "       [0.05405405, 0.04826255, 0.03281853],\n",
       "       [0.04826255, 0.03281853, 0.05984556],\n",
       "       [0.03281853, 0.05984556, 0.08494208],\n",
       "       [0.05984556, 0.08494208, 0.08494208],\n",
       "       [0.08494208, 0.08494208, 0.06177606],\n",
       "       [0.08494208, 0.06177606, 0.02895753],\n",
       "       [0.06177606, 0.02895753, 0.        ],\n",
       "       [0.02895753, 0.        , 0.02702703],\n",
       "       [0.        , 0.02702703, 0.02123552],\n",
       "       [0.02702703, 0.02123552, 0.04247104],\n",
       "       [0.02123552, 0.04247104, 0.07142857],\n",
       "       [0.04247104, 0.07142857, 0.05984556],\n",
       "       [0.07142857, 0.05984556, 0.04054054],\n",
       "       [0.05984556, 0.04054054, 0.08687259],\n",
       "       [0.04054054, 0.08687259, 0.12741313],\n",
       "       [0.08687259, 0.12741313, 0.12741313],\n",
       "       [0.12741313, 0.12741313, 0.1042471 ],\n",
       "       [0.12741313, 0.1042471 , 0.05598456],\n",
       "       [0.1042471 , 0.05598456, 0.01930502],\n",
       "       [0.05598456, 0.01930502, 0.06949807],\n",
       "       [0.01930502, 0.06949807, 0.07915058],\n",
       "       [0.06949807, 0.07915058, 0.08880309],\n",
       "       [0.07915058, 0.08880309, 0.14285714],\n",
       "       [0.08880309, 0.14285714, 0.11389961],\n",
       "       [0.14285714, 0.11389961, 0.13127413],\n",
       "       [0.11389961, 0.13127413, 0.14285714],\n",
       "       [0.13127413, 0.14285714, 0.18339768],\n",
       "       [0.14285714, 0.18339768, 0.18339768],\n",
       "       [0.18339768, 0.18339768, 0.15444015],\n",
       "       [0.18339768, 0.15444015, 0.11196911],\n",
       "       [0.15444015, 0.11196911, 0.08108108],\n",
       "       [0.11196911, 0.08108108, 0.11969112],\n",
       "       [0.08108108, 0.11969112, 0.12934363],\n",
       "       [0.11969112, 0.12934363, 0.14671815],\n",
       "       [0.12934363, 0.14671815, 0.17181467],\n",
       "       [0.14671815, 0.17181467, 0.14864865],\n",
       "       [0.17181467, 0.14864865, 0.15250965],\n",
       "       [0.14864865, 0.15250965, 0.22007722],\n",
       "       [0.15250965, 0.22007722, 0.24324324],\n",
       "       [0.22007722, 0.24324324, 0.26640927],\n",
       "       [0.24324324, 0.26640927, 0.2027027 ],\n",
       "       [0.26640927, 0.2027027 , 0.16795367],\n",
       "       [0.2027027 , 0.16795367, 0.13127413],\n",
       "       [0.16795367, 0.13127413, 0.17374517],\n",
       "       [0.13127413, 0.17374517, 0.17760618],\n",
       "       [0.17374517, 0.17760618, 0.17760618],\n",
       "       [0.17760618, 0.17760618, 0.25482625],\n",
       "       [0.17760618, 0.25482625, 0.25289575],\n",
       "       [0.25482625, 0.25289575, 0.24131274],\n",
       "       [0.25289575, 0.24131274, 0.26833977],\n",
       "       [0.24131274, 0.26833977, 0.30888031],\n",
       "       [0.26833977, 0.30888031, 0.32432432],\n",
       "       [0.30888031, 0.32432432, 0.25675676],\n",
       "       [0.32432432, 0.25675676, 0.20656371],\n",
       "       [0.25675676, 0.20656371, 0.14671815],\n",
       "       [0.20656371, 0.14671815, 0.18725869],\n",
       "       [0.14671815, 0.18725869, 0.19305019],\n",
       "       [0.18725869, 0.19305019, 0.16216216],\n",
       "       [0.19305019, 0.16216216, 0.25289575],\n",
       "       [0.16216216, 0.25289575, 0.23745174],\n",
       "       [0.25289575, 0.23745174, 0.25096525],\n",
       "       [0.23745174, 0.25096525, 0.30888031],\n",
       "       [0.25096525, 0.30888031, 0.38223938],\n",
       "       [0.30888031, 0.38223938, 0.36486486],\n",
       "       [0.38223938, 0.36486486, 0.2992278 ],\n",
       "       [0.36486486, 0.2992278 , 0.24131274],\n",
       "       [0.2992278 , 0.24131274, 0.19111969],\n",
       "       [0.24131274, 0.19111969, 0.24131274],\n",
       "       [0.19111969, 0.24131274, 0.26640927],\n",
       "       [0.24131274, 0.26640927, 0.24903475],\n",
       "       [0.26640927, 0.24903475, 0.31467181],\n",
       "       [0.24903475, 0.31467181, 0.31853282],\n",
       "       [0.31467181, 0.31853282, 0.32046332],\n",
       "       [0.31853282, 0.32046332, 0.40733591],\n",
       "       [0.32046332, 0.40733591, 0.5019305 ],\n",
       "       [0.40733591, 0.5019305 , 0.46911197],\n",
       "       [0.5019305 , 0.46911197, 0.4015444 ],\n",
       "       [0.46911197, 0.4015444 , 0.32818533],\n",
       "       [0.4015444 , 0.32818533, 0.25675676],\n",
       "       [0.32818533, 0.25675676, 0.33590734],\n",
       "       [0.25675676, 0.33590734, 0.34749035],\n",
       "       [0.33590734, 0.34749035, 0.33397683],\n",
       "       [0.34749035, 0.33397683, 0.41119691],\n",
       "       [0.33397683, 0.41119691, 0.4034749 ],\n",
       "       [0.41119691, 0.4034749 , 0.41312741],\n",
       "       [0.4034749 , 0.41312741, 0.52123552],\n",
       "       [0.41312741, 0.52123552, 0.5965251 ],\n",
       "       [0.52123552, 0.5965251 , 0.58108108],\n",
       "       [0.5965251 , 0.58108108, 0.48455598],\n",
       "       [0.58108108, 0.48455598, 0.38996139],\n",
       "       [0.48455598, 0.38996139, 0.32239382],\n",
       "       [0.38996139, 0.32239382, 0.38996139],\n",
       "       [0.32239382, 0.38996139, 0.40733591],\n",
       "       [0.38996139, 0.40733591, 0.38030888],\n",
       "       [0.40733591, 0.38030888, 0.48648649],\n",
       "       [0.38030888, 0.48648649, 0.47104247],\n",
       "       [0.48648649, 0.47104247, 0.48455598],\n",
       "       [0.47104247, 0.48455598, 0.61389961],\n",
       "       [0.48455598, 0.61389961, 0.6969112 ],\n",
       "       [0.61389961, 0.6969112 , 0.7007722 ],\n",
       "       [0.6969112 , 0.7007722 , 0.57915058],\n",
       "       [0.7007722 , 0.57915058, 0.46911197],\n",
       "       [0.57915058, 0.46911197, 0.38803089],\n",
       "       [0.46911197, 0.38803089, 0.44787645],\n",
       "       [0.38803089, 0.44787645, 0.45559846],\n",
       "       [0.44787645, 0.45559846, 0.41312741],\n",
       "       [0.45559846, 0.41312741, 0.4980695 ],\n",
       "       [0.41312741, 0.4980695 , 0.47104247],\n",
       "       [0.4980695 , 0.47104247, 0.5       ],\n",
       "       [0.47104247, 0.5       , 0.63899614],\n",
       "       [0.5       , 0.63899614, 0.74710425],\n",
       "       [0.63899614, 0.74710425, 0.77413127],\n",
       "       [0.74710425, 0.77413127, 0.57915058],\n",
       "       [0.77413127, 0.57915058, 0.49227799],\n",
       "       [0.57915058, 0.49227799, 0.3976834 ],\n",
       "       [0.49227799, 0.3976834 , 0.44980695],\n",
       "       [0.3976834 , 0.44980695, 0.49420849],\n",
       "       [0.44980695, 0.49420849, 0.45945946],\n",
       "       [0.49420849, 0.45945946, 0.58301158],\n",
       "       [0.45945946, 0.58301158, 0.56370656],\n",
       "       [0.58301158, 0.56370656, 0.61003861],\n",
       "       [0.56370656, 0.61003861, 0.71042471],\n",
       "       [0.61003861, 0.71042471, 0.85714286],\n",
       "       [0.71042471, 0.85714286, 0.87837838],\n",
       "       [0.85714286, 0.87837838, 0.69305019],\n",
       "       [0.87837838, 0.69305019, 0.58494208],\n",
       "       [0.69305019, 0.58494208, 0.4980695 ],\n",
       "       [0.58494208, 0.4980695 , 0.58108108],\n",
       "       [0.4980695 , 0.58108108, 0.6042471 ],\n",
       "       [0.58108108, 0.6042471 , 0.55405405],\n",
       "       [0.6042471 , 0.55405405, 0.60810811],\n",
       "       [0.55405405, 0.60810811, 0.68918919],\n",
       "       [0.60810811, 0.68918919, 0.71042471],\n",
       "       [0.68918919, 0.71042471, 0.83204633],\n",
       "       [0.71042471, 0.83204633, 1.        ],\n",
       "       [0.83204633, 1.        , 0.96911197],\n",
       "       [1.        , 0.96911197, 0.77992278],\n",
       "       [0.96911197, 0.77992278, 0.68918919],\n",
       "       [0.77992278, 0.68918919, 0.55212355]])"
      ]
     },
     "execution_count": 10,
     "metadata": {},
     "output_type": "execute_result"
    }
   ],
   "source": [
    "# prepoceesing data dengan MinMaxScaler\n",
    "from sklearn.preprocessing import MinMaxScaler\n",
    "scaler = MinMaxScaler(feature_range=(0, 1))\n",
    "X = scaler.fit_transform(X)\n",
    "\n",
    "X"
   ]
  },
  {
   "cell_type": "code",
   "execution_count": 11,
   "metadata": {},
   "outputs": [
    {
     "name": "stdout",
     "output_type": "stream",
     "text": [
      "(112, 3) (112,)\n",
      "(29, 3) (29,)\n"
     ]
    }
   ],
   "source": [
    "# split data train dan test\n",
    "from sklearn.model_selection import train_test_split\n",
    "X_train, X_test, y_train, y_test = train_test_split(\n",
    "    X, y, shuffle=False, test_size=0.2)\n",
    "\n",
    "# tampilkan shape train dan test\n",
    "print(X_train.shape, y_train.shape)\n",
    "print(X_test.shape, y_test.shape)"
   ]
  },
  {
   "attachments": {},
   "cell_type": "markdown",
   "metadata": {},
   "source": [
    "### Permodelan KNN"
   ]
  },
  {
   "cell_type": "code",
   "execution_count": 12,
   "metadata": {},
   "outputs": [
    {
     "name": "stdout",
     "output_type": "stream",
     "text": [
      "Hasil Evaluasi : -0.21856824443418832\n",
      "Hasil prediksi : [405.45454545 400.18181818 380.18181818 356.36363636 326.72727273\n",
      " 351.90909091 360.18181818 354.81818182 396.09090909 397.81818182\n",
      " 400.18181818 400.18181818 400.18181818 400.18181818 386.45454545\n",
      " 380.18181818 356.36363636 388.18181818 402.27272727 400.18181818\n",
      " 400.18181818 400.18181818 400.18181818 400.18181818 400.18181818\n",
      " 400.18181818 386.45454545 380.18181818 376.27272727]\n"
     ]
    }
   ],
   "source": [
    "# buat model knn regressor\n",
    "from sklearn.neighbors import KNeighborsRegressor\n",
    "model = KNeighborsRegressor(n_neighbors=11)\n",
    "\n",
    "# train model\n",
    "model.fit(X_train, y_train)\n",
    "\n",
    "# evaluasi model\n",
    "evaluasi = model.score(X_test, y_test)\n",
    "print('Hasil Evaluasi :',evaluasi)\n",
    "\n",
    "# prediksi data test\n",
    "y_pred = model.predict(X_test)\n",
    "print('Hasil prediksi :',y_pred)"
   ]
  },
  {
   "cell_type": "code",
   "execution_count": 13,
   "metadata": {},
   "outputs": [
    {
     "name": "stdout",
     "output_type": "stream",
     "text": [
      "Hasil MAPE KNN : 0.1264188499370808\n"
     ]
    }
   ],
   "source": [
    "# MAPE\n",
    "from sklearn.metrics import mean_absolute_percentage_error\n",
    "y_pred = model.predict(X_test)\n",
    "mape = mean_absolute_percentage_error(y_test, y_pred)\n",
    "print('Hasil MAPE KNN :',mape)"
   ]
  },
  {
   "cell_type": "code",
   "execution_count": 14,
   "metadata": {},
   "outputs": [
    {
     "ename": "SyntaxError",
     "evalue": "invalid syntax (1579288113.py, line 5)",
     "output_type": "error",
     "traceback": [
      "\u001b[0;36m  Cell \u001b[0;32mIn[14], line 5\u001b[0;36m\u001b[0m\n\u001b[0;31m    print('Hasil RMSE KNN :'r,mse)\u001b[0m\n\u001b[0m                            ^\u001b[0m\n\u001b[0;31mSyntaxError\u001b[0m\u001b[0;31m:\u001b[0m invalid syntax\n"
     ]
    }
   ],
   "source": [
    "from sklearn.metrics import mean_squared_error\n",
    "from math import sqrt\n",
    "\n",
    "rmse = sqrt(mean_squared_error(y_test, y_pred))\n",
    "print('Hasil RMSE KNN :'r,mse)"
   ]
  },
  {
   "cell_type": "code",
   "execution_count": null,
   "metadata": {},
   "outputs": [
    {
     "data": {
      "image/png": "[encoded data removed]",
      "text/plain": [
       "<Figure size 640x480 with 1 Axes>"
      ]
     },
     "metadata": {},
     "output_type": "display_data"
    }
   ],
   "source": [
    "# plot MAPE\n",
    "import matplotlib.pyplot as plt\n",
    "plt.title('Hasil Prediksi KNN')\n",
    "plt.plot(y_test, label='actual')\n",
    "plt.plot(y_pred, label='forecast')\n",
    "plt.legend()\n",
    "plt.show()"
   ]
  },
  {
   "attachments": {},
   "cell_type": "markdown",
   "metadata": {},
   "source": [
    "### Pemodelan Naive Baiyess"
   ]
  },
  {
   "cell_type": "code",
   "execution_count": null,
   "metadata": {},
   "outputs": [],
   "source": []
  }
 ],
 "metadata": {
  "language_info": {
   "name": "python"
  },
  "orig_nbformat": 4
 },
 "nbformat": 4,
 "nbformat_minor": 2
}
